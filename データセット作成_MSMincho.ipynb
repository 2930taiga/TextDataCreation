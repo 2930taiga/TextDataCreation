{
 "cells": [
  {
   "cell_type": "code",
   "execution_count": 1,
   "metadata": {},
   "outputs": [],
   "source": [
    "#ライブラリのimport\n",
    "import pandas as pd\n",
    "import PIL.Image\n",
    "import PIL.ImageTk\n",
    "import PIL.ImageDraw\n",
    "import PIL.ImageFont\n",
    "import tkinter as tk\n",
    "import numpy as np"
   ]
  },
  {
   "cell_type": "code",
   "execution_count": 2,
   "metadata": {},
   "outputs": [
    {
     "data": {
      "text/html": [
       "<div>\n",
       "<style scoped>\n",
       "    .dataframe tbody tr th:only-of-type {\n",
       "        vertical-align: middle;\n",
       "    }\n",
       "\n",
       "    .dataframe tbody tr th {\n",
       "        vertical-align: top;\n",
       "    }\n",
       "\n",
       "    .dataframe thead th {\n",
       "        text-align: right;\n",
       "    }\n",
       "</style>\n",
       "<table border=\"1\" class=\"dataframe\">\n",
       "  <thead>\n",
       "    <tr style=\"text-align: right;\">\n",
       "      <th></th>\n",
       "      <th>0</th>\n",
       "    </tr>\n",
       "  </thead>\n",
       "  <tbody>\n",
       "    <tr>\n",
       "      <th>0</th>\n",
       "      <td>a</td>\n",
       "    </tr>\n",
       "    <tr>\n",
       "      <th>1</th>\n",
       "      <td>b</td>\n",
       "    </tr>\n",
       "    <tr>\n",
       "      <th>2</th>\n",
       "      <td>c</td>\n",
       "    </tr>\n",
       "    <tr>\n",
       "      <th>3</th>\n",
       "      <td>d</td>\n",
       "    </tr>\n",
       "    <tr>\n",
       "      <th>4</th>\n",
       "      <td>e</td>\n",
       "    </tr>\n",
       "    <tr>\n",
       "      <th>...</th>\n",
       "      <td>...</td>\n",
       "    </tr>\n",
       "    <tr>\n",
       "      <th>88</th>\n",
       "      <td>/</td>\n",
       "    </tr>\n",
       "    <tr>\n",
       "      <th>89</th>\n",
       "      <td>.</td>\n",
       "    </tr>\n",
       "    <tr>\n",
       "      <th>90</th>\n",
       "      <td>,</td>\n",
       "    </tr>\n",
       "    <tr>\n",
       "      <th>91</th>\n",
       "      <td>~</td>\n",
       "    </tr>\n",
       "    <tr>\n",
       "      <th>92</th>\n",
       "      <td></td>\n",
       "    </tr>\n",
       "  </tbody>\n",
       "</table>\n",
       "<p>93 rows × 1 columns</p>\n",
       "</div>"
      ],
      "text/plain": [
       "    0\n",
       "0   a\n",
       "1   b\n",
       "2   c\n",
       "3   d\n",
       "4   e\n",
       ".. ..\n",
       "88  /\n",
       "89  .\n",
       "90  ,\n",
       "91  ~\n",
       "92   \n",
       "\n",
       "[93 rows x 1 columns]"
      ]
     },
     "execution_count": 2,
     "metadata": {},
     "output_type": "execute_result"
    }
   ],
   "source": [
    "#データセットの読み込み\n",
    "lett_data = pd.read_csv(\"文字素材.csv\",header=None)\n",
    "#末尾に\" \"(空白)を追加\n",
    "lett_data.loc[len(lett_data)] = [\" \"]\n",
    "lett_data"
   ]
  },
  {
   "cell_type": "code",
   "execution_count": 3,
   "metadata": {},
   "outputs": [],
   "source": [
    "#文字から明るさを決定する関数\n",
    "def determining_brightness(lett):\n",
    "    #画像を準備\n",
    "    img = PIL.Image.new(\"L\",(150,300),color=255)\n",
    "    draw = PIL.ImageDraw.Draw(img)\n",
    "\n",
    "    #フォント情報を作成\n",
    "    font_size = 10\n",
    "    font = PIL.ImageFont.truetype(\"MSMINCHO.TTF\",300)\n",
    "\n",
    "    #フォントを書く\n",
    "    draw.text((0,0),lett,font=font)\n",
    "\n",
    "    gray_image = img.convert(\"L\")\n",
    "    gray_image = gray_image.resize((1,1),PIL.Image.Resampling.LANCZOS)\n",
    "\n",
    "    #明るさを取り出す\n",
    "    blight_data = np.asarray(gray_image)\n",
    "\n",
    "    #そのままだとリストなので，数字のみを取り出す\n",
    "    blightness = blight_data[0][0]\n",
    "\n",
    "    return blightness"
   ]
  },
  {
   "cell_type": "code",
   "execution_count": 4,
   "metadata": {},
   "outputs": [],
   "source": [
    "#明るさを0~1にする関数\n",
    "def normalization_to_0_1(num):\n",
    "    num = float(abs(num-255)/255)\n",
    "    return num"
   ]
  },
  {
   "cell_type": "code",
   "execution_count": 5,
   "metadata": {},
   "outputs": [],
   "source": [
    "#最大値を天井とし，0~1で正規化\n",
    "def normalization_to_0_1_EX(num,max,min):\n",
    "    num = float(num/(max-min))\n",
    "    return num"
   ]
  },
  {
   "cell_type": "markdown",
   "metadata": {},
   "source": [
    "#### データフレームを作成する  \n",
    "A列→index  \n",
    "B列→文字  \n",
    "C列→明るさ(255~0)  \n",
    "D列→明るさ(0~1正規化)  \n",
    "E列→明るさ(0~1max,min正規化)"
   ]
  },
  {
   "cell_type": "code",
   "execution_count": 6,
   "metadata": {},
   "outputs": [],
   "source": [
    "#データフレームを作成\n",
    "df = pd.DataFrame()\n",
    "#文字データをコピーして0列目に格納\n",
    "df[0] = lett_data[0]\n",
    "\n",
    "#明るさを計算して1列目に格納\n",
    "df[1] = df[0].apply(determining_brightness)\n",
    "#正規化したデータを2列目に格納\n",
    "df[2] = df[1].apply(normalization_to_0_1)\n",
    "#最大値，最小値を求める\n",
    "max = df[2].max()\n",
    "min = df[2].min()\n",
    "#最大値を1としてデータを3列目に格納\n",
    "df[3] = df[2].apply(lambda row : normalization_to_0_1_EX(row,max,min))\n",
    "\n",
    "#値が大きい順に並べ替える\n",
    "sorted_df = df.sort_values(by=3,ascending=False)\n",
    "#何故か並び替えができないので，データセット取得時に行う\n",
    "\"\"\" #並べ替えたものをdfに格納(文字とmax,min正規化の数値のみ)\n",
    "df[5] = sorted_df[0]\n",
    "df[6] = sorted_df[3] \"\"\"\n",
    "\n",
    "\n",
    "#csvに保存する\n",
    "df.to_csv(\"DataSets_MSMincho.csv\",mode=\"x\",header=False)\n",
    "\n",
    "#sorted_df"
   ]
  }
 ],
 "metadata": {
  "kernelspec": {
   "display_name": "My USB Env",
   "language": "python",
   "name": "env"
  },
  "language_info": {
   "codemirror_mode": {
    "name": "ipython",
    "version": 3
   },
   "file_extension": ".py",
   "mimetype": "text/x-python",
   "name": "python",
   "nbconvert_exporter": "python",
   "pygments_lexer": "ipython3",
   "version": "3.10.10"
  }
 },
 "nbformat": 4,
 "nbformat_minor": 2
}
